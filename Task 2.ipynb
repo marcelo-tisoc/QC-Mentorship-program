{
 "cells": [
  {
   "cell_type": "code",
   "execution_count": 2,
   "metadata": {},
   "outputs": [],
   "source": [
    "import numpy as np\n",
    "from qiskit import(QuantumCircuit, execute, Aer)"
   ]
  },
  {
   "cell_type": "code",
   "execution_count": 3,
   "metadata": {},
   "outputs": [
    {
     "data": {
      "text/html": [
       "<pre style=\"word-wrap: normal;white-space: pre;background: #fff0;line-height: 1.1;font-family: &quot;Courier New&quot;,Courier,monospace\">     ┌──────────┐┌────────┐      ░ ┌─┐   \n",
       "q_0: ┤ RY(pi/2) ├┤ RX(pi) ├──■───░─┤M├───\n",
       "     └┬────────┬┘└────────┘┌─┴─┐ ░ └╥┘┌─┐\n",
       "q_1: ─┤ RX(pi) ├───────────┤ X ├─░──╫─┤M├\n",
       "      └────────┘           └───┘ ░  ║ └╥┘\n",
       "c_0: ═══════════════════════════════╩══╬═\n",
       "                                       ║ \n",
       "c_1: ══════════════════════════════════╩═\n",
       "                                         </pre>"
      ],
      "text/plain": [
       "     ┌──────────┐┌────────┐      ░ ┌─┐   \n",
       "q_0: ┤ RY(pi/2) ├┤ RX(pi) ├──■───░─┤M├───\n",
       "     └┬────────┬┘└────────┘┌─┴─┐ ░ └╥┘┌─┐\n",
       "q_1: ─┤ RX(pi) ├───────────┤ X ├─░──╫─┤M├\n",
       "      └────────┘           └───┘ ░  ║ └╥┘\n",
       "c_0: ═══════════════════════════════╩══╬═\n",
       "                                       ║ \n",
       "c_1: ══════════════════════════════════╩═\n",
       "                                         "
      ]
     },
     "execution_count": 3,
     "metadata": {},
     "output_type": "execute_result"
    }
   ],
   "source": [
    "qc = QuantumCircuit(2,2)\n",
    "#First a RY(np.pi/2) gate and then RX(np.pi) gate on qubit 0 to obtain a H gate with a phase.\n",
    "qc.ry((np.pi/2), 0)\n",
    "qc.rx((np.pi),0)\n",
    "#Second a RX(np.pi) gate on qubit 1 to obtain a X gate with a phase.\n",
    "qc.rx((np.pi),1)\n",
    "#Third a CX gate on control qubit 0 and target qubit 1\n",
    "qc.cx(0,1)\n",
    "qc.barrier()\n",
    "#Finally the measurement\n",
    "qc.measure([0,1],[0,1])\n",
    "qc.draw()"
   ]
  },
  {
   "cell_type": "code",
   "execution_count": 4,
   "metadata": {},
   "outputs": [
    {
     "name": "stdout",
     "output_type": "stream",
     "text": [
      "\n",
      "Total count for 01 and 10 are: {'01': 1}\n"
     ]
    }
   ],
   "source": [
    "#Simulation for 1 measurement\n",
    "#We use qams_simulator which is Noisy quantum circuit simulator backend.\n",
    "simulator = Aer.get_backend('qasm_simulator')\n",
    "job=execute(qc, simulator,shots=1)\n",
    "result = job.result()\n",
    "counts= result.get_counts(qc)\n",
    "print(\"\\nTotal count for 01 and 10 are:\",counts)"
   ]
  },
  {
   "cell_type": "code",
   "execution_count": 5,
   "metadata": {},
   "outputs": [
    {
     "name": "stdout",
     "output_type": "stream",
     "text": [
      "\n",
      "Total count for 01 and 10 are: {'10': 2, '01': 8}\n"
     ]
    }
   ],
   "source": [
    "#Simulation for 10 measurements\n",
    "simulator = Aer.get_backend('qasm_simulator')\n",
    "job=execute(qc, simulator,shots=10)\n",
    "result = job.result()\n",
    "counts= result.get_counts(qc)\n",
    "print(\"\\nTotal count for 01 and 10 are:\",counts)"
   ]
  },
  {
   "cell_type": "code",
   "execution_count": 6,
   "metadata": {},
   "outputs": [
    {
     "name": "stdout",
     "output_type": "stream",
     "text": [
      "\n",
      "Total count for 01 and 10 are: {'10': 44, '01': 56}\n"
     ]
    }
   ],
   "source": [
    "#Simulation for 100 measurements\n",
    "simulator = Aer.get_backend('qasm_simulator')\n",
    "job=execute(qc, simulator,shots=100)\n",
    "result = job.result()\n",
    "counts= result.get_counts(qc)\n",
    "print(\"\\nTotal count for 01 and 10 are:\",counts)"
   ]
  },
  {
   "cell_type": "code",
   "execution_count": 7,
   "metadata": {},
   "outputs": [
    {
     "name": "stdout",
     "output_type": "stream",
     "text": [
      "\n",
      "Total count for 01 and 10 are: {'10': 473, '01': 527}\n"
     ]
    }
   ],
   "source": [
    "#Simulation for 1000 measurements\n",
    "simulator = Aer.get_backend('qasm_simulator')\n",
    "job=execute(qc, simulator,shots=1000)\n",
    "result = job.result()\n",
    "counts= result.get_counts(qc)\n",
    "print(\"\\nTotal count for 01 and 10 are:\",counts)"
   ]
  },
  {
   "cell_type": "code",
   "execution_count": 8,
   "metadata": {},
   "outputs": [
    {
     "name": "stdout",
     "output_type": "stream",
     "text": [
      "\n",
      "Total count for 01 and 10 are: {'10': 5068, '01': 4932}\n"
     ]
    }
   ],
   "source": [
    "#Simulation for 10000 measurements\n",
    "simulator = Aer.get_backend('qasm_simulator')\n",
    "job=execute(qc, simulator,shots=10000)\n",
    "result = job.result()\n",
    "counts= result.get_counts(qc)\n",
    "print(\"\\nTotal count for 01 and 10 are:\",counts)"
   ]
  },
  {
   "cell_type": "code",
   "execution_count": 9,
   "metadata": {},
   "outputs": [],
   "source": [
    "#I am sure I am producing the correct state because the phase is multiplying the whole state, not just a part."
   ]
  }
 ],
 "metadata": {
  "kernelspec": {
   "display_name": "Python 3",
   "language": "python",
   "name": "python3"
  },
  "language_info": {
   "codemirror_mode": {
    "name": "ipython",
    "version": 3
   },
   "file_extension": ".py",
   "mimetype": "text/x-python",
   "name": "python",
   "nbconvert_exporter": "python",
   "pygments_lexer": "ipython3",
   "version": "3.6.10"
  }
 },
 "nbformat": 4,
 "nbformat_minor": 4
}
